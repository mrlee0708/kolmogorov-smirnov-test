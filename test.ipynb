{
 "cells": [
  {
   "cell_type": "markdown",
   "source": [
    "# Kolmogorov-Smirnov Test (KS Test)"
   ],
   "metadata": {}
  },
  {
   "cell_type": "markdown",
   "source": [
    "+ 데이터의 누적 분포 함수와 비교하고자 하는 분포의 누적 분포 함수 간의 최대 거리를 통계량으로 사용하는 가설 검정 방법"
   ],
   "metadata": {}
  },
  {
   "cell_type": "markdown",
   "source": [],
   "metadata": {}
  },
  {
   "cell_type": "code",
   "execution_count": null,
   "source": [],
   "outputs": [],
   "metadata": {}
  }
 ],
 "metadata": {
  "orig_nbformat": 4,
  "language_info": {
   "name": "python",
   "version": "3.10.0",
   "mimetype": "text/x-python",
   "codemirror_mode": {
    "name": "ipython",
    "version": 3
   },
   "pygments_lexer": "ipython3",
   "nbconvert_exporter": "python",
   "file_extension": ".py"
  },
  "kernelspec": {
   "name": "python3",
   "display_name": "Python 3.10.0 64-bit"
  },
  "interpreter": {
   "hash": "00aa273422d23aa338f7320c4e45b7857f526458d1e56e1126391553237e614d"
  }
 },
 "nbformat": 4,
 "nbformat_minor": 2
}